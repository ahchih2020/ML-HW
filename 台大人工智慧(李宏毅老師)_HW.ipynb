{
  "nbformat": 4,
  "nbformat_minor": 0,
  "metadata": {
    "colab": {
      "name": "台大人工智慧(李宏毅老師) HW.ipynb",
      "provenance": [],
      "mount_file_id": "1-CgEbrMxK6Y3feusb7iOQ3ReBs0m65ng",
      "authorship_tag": "ABX9TyNWY66XoQKINUuHFXMYXsYr",
      "include_colab_link": true
    },
    "kernelspec": {
      "name": "python3",
      "display_name": "Python 3"
    },
    "language_info": {
      "name": "python"
    }
  },
  "cells": [
    {
      "cell_type": "markdown",
      "metadata": {
        "id": "view-in-github",
        "colab_type": "text"
      },
      "source": [
        "<a href=\"https://colab.research.google.com/github/ahchih2020/ML-HW-/blob/main/%E5%8F%B0%E5%A4%A7%E4%BA%BA%E5%B7%A5%E6%99%BA%E6%85%A7(%E6%9D%8E%E5%AE%8F%E6%AF%85%E8%80%81%E5%B8%AB)_HW.ipynb\" target=\"_parent\"><img src=\"https://colab.research.google.com/assets/colab-badge.svg\" alt=\"Open In Colab\"/></a>"
      ]
    },
    {
      "cell_type": "markdown",
      "source": [
        "HW1 Regression"
      ],
      "metadata": {
        "id": "eAWVH5WAVFt9"
      }
    },
    {
      "cell_type": "code",
      "execution_count": null,
      "metadata": {
        "id": "LgTu5Iw6VEcY"
      },
      "outputs": [],
      "source": [
        "tr_path = 'covid.train.csv'  # path to training data\n",
        "tt_path = 'covid.test.csv'   # path to testing data\n",
        "\n",
        "!gdown"
      ]
    }
  ]
}