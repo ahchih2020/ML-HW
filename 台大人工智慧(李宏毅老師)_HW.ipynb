{
  "nbformat": 4,
  "nbformat_minor": 0,
  "metadata": {
    "colab": {
      "name": "台大人工智慧(李宏毅老師) HW.ipynb",
      "provenance": [],
      "mount_file_id": "1-CgEbrMxK6Y3feusb7iOQ3ReBs0m65ng",
      "authorship_tag": "ABX9TyPyuO7+oya5mJTH9i7jti+d",
      "include_colab_link": true
    },
    "kernelspec": {
      "name": "python3",
      "display_name": "Python 3"
    },
    "language_info": {
      "name": "python"
    }
  },
  "cells": [
    {
      "cell_type": "markdown",
      "metadata": {
        "id": "view-in-github",
        "colab_type": "text"
      },
      "source": [
        "<a href=\"https://colab.research.google.com/github/ahchih2020/ML-HW-/blob/main/%E5%8F%B0%E5%A4%A7%E4%BA%BA%E5%B7%A5%E6%99%BA%E6%85%A7(%E6%9D%8E%E5%AE%8F%E6%AF%85%E8%80%81%E5%B8%AB)_HW.ipynb\" target=\"_parent\"><img src=\"https://colab.research.google.com/assets/colab-badge.svg\" alt=\"Open In Colab\"/></a>"
      ]
    },
    {
      "cell_type": "markdown",
      "source": [
        "# HW1 Regression\n",
        "預測美國某一州Covid 19的人口比例，會給前3天數值要預測第3天\n",
        "\n",
        "Dataset(Kaggle) https://www.kaggle.com/c/ml2021spring-hw1/data"
      ],
      "metadata": {
        "id": "eAWVH5WAVFt9"
      }
    },
    {
      "cell_type": "code",
      "execution_count": 8,
      "metadata": {
        "id": "LgTu5Iw6VEcY",
        "colab": {
          "base_uri": "https://localhost:8080/"
        },
        "outputId": "ce39e0f7-41e1-4658-b3ef-59546b15d48f"
      },
      "outputs": [
        {
          "output_type": "stream",
          "name": "stdout",
          "text": [
            "Downloading...\n",
            "From: https://drive.google.com/uc?id=1-1FwzGqljXA4ta8e5xuE2JIOSiwNCXoR\n",
            "To: /content/covid.train1.csv\n",
            "100% 2.00M/2.00M [00:00<00:00, 158MB/s]\n",
            "Downloading...\n",
            "From: https://drive.google.com/uc?id=1aA7kSX8FpKP9L0F8zSdgJjlP33cuLSCS\n",
            "To: /content/covid.test.csv\n",
            "100% 651k/651k [00:00<00:00, 109MB/s]\n"
          ]
        }
      ],
      "source": [
        "##tr_path = 'covid.train.csv'  # path to training data\n",
        "#tt_path = 'covid.test.csv'   # path to testing data\n",
        "\n",
        "!gdown --id '1-1FwzGqljXA4ta8e5xuE2JIOSiwNCXoR' --output covid.train1.csv #從id處下載後，儲存成output後面的名字\n",
        "!gdown --id '1aA7kSX8FpKP9L0F8zSdgJjlP33cuLSCS' --output covid.test.csv"
      ]
    }
  ]
}